{
 "cells": [
  {
   "cell_type": "markdown",
   "id": "ce54f00b",
   "metadata": {},
   "source": [
    "Introduction\n",
    "=========="
   ]
  },
  {
   "cell_type": "markdown",
   "id": "390c7551",
   "metadata": {},
   "source": [
    "This is my _first_ Jupyter notebook."
   ]
  },
  {
   "cell_type": "code",
   "execution_count": 1,
   "id": "b2ba6c3a",
   "metadata": {},
   "outputs": [],
   "source": [
    "x = 5\n",
    "y = 6\n",
    "\n",
    "z = x+y"
   ]
  },
  {
   "cell_type": "code",
   "execution_count": 2,
   "id": "3619a398",
   "metadata": {},
   "outputs": [
    {
     "data": {
      "text/plain": [
       "11"
      ]
     },
     "execution_count": 2,
     "metadata": {},
     "output_type": "execute_result"
    }
   ],
   "source": [
    "z"
   ]
  }
 ],
 "metadata": {
  "kernelspec": {
   "display_name": "Python 3 (ipykernel)",
   "language": "python",
   "name": "python3"
  },
  "language_info": {
   "codemirror_mode": {
    "name": "ipython",
    "version": 3
   },
   "file_extension": ".py",
   "mimetype": "text/x-python",
   "name": "python",
   "nbconvert_exporter": "python",
   "pygments_lexer": "ipython3",
   "version": "3.9.13"
  }
 },
 "nbformat": 4,
 "nbformat_minor": 5
}
